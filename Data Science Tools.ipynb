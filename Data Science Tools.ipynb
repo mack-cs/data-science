{
 "cells": [
  {
   "cell_type": "markdown",
   "id": "4af46cc0",
   "metadata": {},
   "source": [
    "# Data Science Tools"
   ]
  },
  {
   "cell_type": "markdown",
   "id": "78b62670",
   "metadata": {},
   "source": [
    "*This notebook contains information on tools used for Data Science and basic arithmetc operatins. Below I will provide a short list of Data Science languages.*"
   ]
  },
  {
   "cell_type": "markdown",
   "id": "e8214092",
   "metadata": {},
   "source": [
    "- Python\n",
    "- R\n",
    "- SQL\n",
    "- Java\n",
    "- Scala \n",
    "- SAS"
   ]
  },
  {
   "cell_type": "markdown",
   "id": "906f3126",
   "metadata": {},
   "source": [
    "- Pandas\n",
    "- NumPy\n",
    "- Matplotlib\n",
    "- Scikit-learn"
   ]
  },
  {
   "cell_type": "markdown",
   "id": "94a964f4",
   "metadata": {},
   "source": [
    "- Jupyter Notebook\n",
    "- Tableau\n",
    "- Apache Spark\n",
    "- Hadoop\n",
    "- Excel "
   ]
  },
  {
   "cell_type": "code",
   "execution_count": 1,
   "id": "d96d9ced",
   "metadata": {},
   "outputs": [
    {
     "name": "stdout",
     "output_type": "stream",
     "text": [
      "22\n"
     ]
    }
   ],
   "source": [
    "print(4 + 3 * 6)"
   ]
  },
  {
   "cell_type": "code",
   "execution_count": 2,
   "id": "dac257d8",
   "metadata": {},
   "outputs": [
    {
     "name": "stdout",
     "output_type": "stream",
     "text": [
      "7\n",
      "2.5\n"
     ]
    }
   ],
   "source": [
    "print(2 + 5)\n",
    "\n",
    "print(10 / (3 + 1))"
   ]
  },
  {
   "cell_type": "code",
   "execution_count": 4,
   "id": "b27defea",
   "metadata": {},
   "outputs": [
    {
     "name": "stdout",
     "output_type": "stream",
     "text": [
      "Hours:  2.5\n"
     ]
    }
   ],
   "source": [
    "minutes = 150\n",
    "print(\"Hours: \", minutes/60)"
   ]
  },
  {
   "cell_type": "markdown",
   "id": "48d62e47",
   "metadata": {},
   "source": [
    "### Objectives\n",
    "- Understand the basics of data science\n",
    "- Learn how to manipulate and clean data\n",
    "- Use data visualization to explore data and communicate insights\n",
    "- Build and evaluate predictive models using machine learning techniques\n",
    "- Apply statistical methods to make data-driven decisions"
   ]
  },
  {
   "cell_type": "markdown",
   "id": "86f9ccbc",
   "metadata": {},
   "source": [
    "<div style=\"text-align: right; font-size: 14px; font-family: Arial; color: gray;\">Author: M Shonayi</div>\n"
   ]
  },
  {
   "cell_type": "code",
   "execution_count": null,
   "id": "2ea8722c",
   "metadata": {},
   "outputs": [],
   "source": []
  }
 ],
 "metadata": {
  "kernelspec": {
   "display_name": "Python 3 (ipykernel)",
   "language": "python",
   "name": "python3"
  },
  "language_info": {
   "codemirror_mode": {
    "name": "ipython",
    "version": 3
   },
   "file_extension": ".py",
   "mimetype": "text/x-python",
   "name": "python",
   "nbconvert_exporter": "python",
   "pygments_lexer": "ipython3",
   "version": "3.9.7"
  }
 },
 "nbformat": 4,
 "nbformat_minor": 5
}
